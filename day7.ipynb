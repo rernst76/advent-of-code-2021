{
 "cells": [
  {
   "cell_type": "code",
   "execution_count": 45,
   "metadata": {},
   "outputs": [
    {
     "name": "stdout",
     "output_type": "stream",
     "text": [
      "1000\n"
     ]
    }
   ],
   "source": [
    "test_raw= \"\"\"16,1,2,0,4,2,7,1,2,14\"\"\"\n",
    "\n",
    "with open(\"./inputs/d7p1.txt\", \"r\") as f:\n",
    "    input_raw = f.read()\n",
    "\n",
    "useTest = False\n",
    "input = test_raw.split(\",\") if useTest else input_raw.split(\",\")\n",
    "input = [int(x) for x in input]\n",
    "print(len(input))"
   ]
  },
  {
   "cell_type": "code",
   "execution_count": 29,
   "metadata": {},
   "outputs": [
    {
     "name": "stdout",
     "output_type": "stream",
     "text": [
      "Median value is: 2.0\n",
      "37.0\n"
     ]
    }
   ],
   "source": [
    "# Part 1\n",
    "\n",
    "import numpy as np\n",
    "\n",
    "input = np.array(input)\n",
    "\n",
    "median = np.median(input)\n",
    "print(f\"Median value is: {median}\")\n",
    "\n",
    "moves_to_median = np.sum(abs(input - median))\n",
    "\n",
    "print(moves_to_median)\n"
   ]
  },
  {
   "cell_type": "code",
   "execution_count": 54,
   "metadata": {},
   "outputs": [
    {
     "name": "stdout",
     "output_type": "stream",
     "text": [
      "Mean value is: 475.553\n",
      "96744904\n"
     ]
    }
   ],
   "source": [
    "# Part 2\n",
    "\n",
    "mean = np.mean(input)\n",
    "print(f\"Mean value is: {mean}\")\n",
    "\n",
    "def crab_fuel(a, b):\n",
    "    steps = [x for x in range(max(a,b) - min(a,b) + 1)]\n",
    "    return sum(steps)\n",
    "\n",
    "fuel_cost = [crab_fuel(x, int(mean)) for x in input]\n",
    "total_fuel_cost = sum(fuel_cost)\n",
    "\n",
    "print(total_fuel_cost)\n"
   ]
  }
 ],
 "metadata": {
  "interpreter": {
   "hash": "1c540fb5ca7b235d86c5aac1325b1c78ca31a85a59fb6ac9c5745a2339e7641f"
  },
  "kernelspec": {
   "display_name": "Python 3.8.10 64-bit ('advent-of-code-2021-6-4Xx-li-py3.10': poetry)",
   "name": "python3"
  },
  "language_info": {
   "codemirror_mode": {
    "name": "ipython",
    "version": 3
   },
   "file_extension": ".py",
   "mimetype": "text/x-python",
   "name": "python",
   "nbconvert_exporter": "python",
   "pygments_lexer": "ipython3",
   "version": "3.8.10"
  },
  "orig_nbformat": 4
 },
 "nbformat": 4,
 "nbformat_minor": 2
}
