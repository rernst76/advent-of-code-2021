{
 "cells": [
  {
   "cell_type": "code",
   "execution_count": 129,
   "metadata": {},
   "outputs": [
    {
     "name": "stdout",
     "output_type": "stream",
     "text": [
      "(500, 2, 2)\n",
      "(991, 991)\n",
      "[[[955 125]\n",
      "  [151 929]]\n",
      "\n",
      " [[830 251]\n",
      "  [526 555]]\n",
      "\n",
      " [[182 185]\n",
      "  [ 13  16]]\n",
      "\n",
      " ...\n",
      "\n",
      " [[667  22]\n",
      "  [308  22]]\n",
      "\n",
      " [[831 782]\n",
      "  [245 196]]\n",
      "\n",
      " [[759 813]\n",
      "  [225 279]]]\n"
     ]
    }
   ],
   "source": [
    "import numpy as np\n",
    "\n",
    "test_inputs = \\\n",
    "    \"\"\"0,9 -> 5,9\n",
    "8,0 -> 0,8\n",
    "9,4 -> 3,4\n",
    "2,2 -> 2,1\n",
    "7,0 -> 7,4\n",
    "6,4 -> 2,0\n",
    "0,9 -> 2,9\n",
    "3,4 -> 1,4\n",
    "0,0 -> 8,8\n",
    "5,5 -> 8,2\"\"\"\n",
    "\n",
    "with open(\"./inputs/d5p1.txt\", \"r\") as f:\n",
    "    raw_inputs = f.read()\n",
    "\n",
    "input = raw_inputs\n",
    "use_test = False\n",
    "if use_test:\n",
    "    input = test_inputs\n",
    "\n",
    "input_lines = input.splitlines()\n",
    "\n",
    "input = [coord.split(\"->\") for coord in input_lines]\n",
    "input = [[x[0].split(\",\"), x[1].split(\",\")] for x in input]\n",
    "\n",
    "input = np.array(input).astype(int)\n",
    "max_dim = input.max()\n",
    "hit_map = np.zeros((max_dim + 1, max_dim +1), dtype=int)\n"
   ]
  },
  {
   "cell_type": "code",
   "execution_count": 130,
   "metadata": {},
   "outputs": [
    {
     "name": "stdout",
     "output_type": "stream",
     "text": [
      "22116\n"
     ]
    }
   ],
   "source": [
    "# Filter out only Vertical and Horizontal lines\n",
    "# List of first coordinate:   input[:,0,:])\n",
    "# List of second coordinates: input[:,1,:])\n",
    "horiz_inputs = (input[:,0,0] == input[:,1,0])\n",
    "vert_inputs = (input[:,0,1] == input[:,1,1])\n",
    "ortho_inputs = input[vert_inputs | horiz_inputs]\n",
    "\n",
    "# Fill in points along line\n",
    "def fill_points(p1, p2):\n",
    "    x_offset = p2[0] - p1[0]\n",
    "    y_offset = p2[1] - p1[1]\n",
    "\n",
    "    # Same point case\n",
    "    if x_offset == 0 and y_offset == 0:\n",
    "        # Just return p1 as it is the same as p2\n",
    "        return np.array(p1)\n",
    "\n",
    "    # Different X case\n",
    "    if x_offset != 0 and y_offset == 0:\n",
    "        line_points = np.empty((abs(x_offset)-1, 2), dtype=int)\n",
    "        sign = 1 if x_offset > 0 else -1\n",
    "        for x in range(1, abs(x_offset)):\n",
    "            line_points[x-1] = np.array([p1[0] + x*sign, p1[1]])\n",
    "        return line_points\n",
    "\n",
    "    # Different Y case\n",
    "    if x_offset == 0 and y_offset != 0:\n",
    "        line_points = np.empty((abs(y_offset)-1, 2), dtype=int)\n",
    "        sign = 1 if y_offset > 0 else -1\n",
    "        for y in range(1, abs(y_offset)):\n",
    "            line_points[y-1] = np.array([p1[0], p1[1] + y*sign])\n",
    "        return line_points\n",
    "\n",
    "    # Different X and Y case \n",
    "    if x_offset != 0 and y_offset != 0:\n",
    "        line_points = np.empty((abs(x_offset)-1, 2), dtype=int)\n",
    "        x_sign = 1 if x_offset > 0 else -1\n",
    "        y_sign = 1 if y_offset > 0 else -1\n",
    "        for xy in range(1, abs(x_offset)):\n",
    "            line_points[xy-1] = np.array([p1[0] + xy*x_sign, p1[1] + xy*y_sign])\n",
    "        return line_points\n",
    "\n",
    "### Apply lines to hit_map (+1 per hit)\n",
    "\n",
    "# Generate the \"inner\" points\n",
    "inner_points = []\n",
    "for point_pair in input:\n",
    "    inner_points.append(fill_points(point_pair[0], point_pair[1]))\n",
    "\n",
    "# Add inner points to hit_map\n",
    "for points in inner_points:\n",
    "    for point in points:\n",
    "        hit_map[point[0], point[1]] += 1\n",
    "\n",
    "# Add end points to hit_map\n",
    "for points in input:\n",
    "    for point in points:\n",
    "        hit_map[point[0], point[1]] += 1\n",
    "\n",
    "# Calculate sum(hits >= 2)\n",
    "hit_map_ge2 = np.where(hit_map >= 2, 1, 0)\n",
    "print(np.sum(hit_map_ge2))\n",
    "\n",
    "# Count number of places that there are two or more hits"
   ]
  }
 ],
 "metadata": {
  "interpreter": {
   "hash": "e7349b9ea3860fa7301e1660ab6a68b577a1365aa0b08225b9efa3798252e0a4"
  },
  "kernelspec": {
   "display_name": "Python 3.10.0 64-bit ('advent-of-code-2021-1t8LADgT-py3.10': poetry)",
   "language": "python",
   "name": "python3"
  },
  "language_info": {
   "codemirror_mode": {
    "name": "ipython",
    "version": 3
   },
   "file_extension": ".py",
   "mimetype": "text/x-python",
   "name": "python",
   "nbconvert_exporter": "python",
   "pygments_lexer": "ipython3",
   "version": "3.10.0"
  },
  "orig_nbformat": 4
 },
 "nbformat": 4,
 "nbformat_minor": 2
}
