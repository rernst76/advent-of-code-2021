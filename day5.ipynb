{
 "cells": [
  {
   "cell_type": "code",
   "execution_count": 15,
   "metadata": {},
   "outputs": [
    {
     "name": "stdout",
     "output_type": "stream",
     "text": [
      "(10, 2, 2)\n",
      "[[[0 9]\n",
      "  [5 9]]\n",
      "\n",
      " [[8 0]\n",
      "  [0 8]]\n",
      "\n",
      " [[9 4]\n",
      "  [3 4]]\n",
      "\n",
      " [[2 2]\n",
      "  [2 1]]\n",
      "\n",
      " [[7 0]\n",
      "  [7 4]]\n",
      "\n",
      " [[6 4]\n",
      "  [2 0]]\n",
      "\n",
      " [[0 9]\n",
      "  [2 9]]\n",
      "\n",
      " [[3 4]\n",
      "  [1 4]]\n",
      "\n",
      " [[0 0]\n",
      "  [8 8]]\n",
      "\n",
      " [[5 5]\n",
      "  [8 2]]]\n"
     ]
    }
   ],
   "source": [
    "import numpy as np\n",
    "\n",
    "test_inputs = \\\n",
    "    \"\"\"0,9 -> 5,9\n",
    "8,0 -> 0,8\n",
    "9,4 -> 3,4\n",
    "2,2 -> 2,1\n",
    "7,0 -> 7,4\n",
    "6,4 -> 2,0\n",
    "0,9 -> 2,9\n",
    "3,4 -> 1,4\n",
    "0,0 -> 8,8\n",
    "5,5 -> 8,2\"\"\"\n",
    "\n",
    "input = test_inputs\n",
    "use_test = True\n",
    "if use_test:\n",
    "    input = test_inputs\n",
    "\n",
    "input_lines = input.splitlines()\n",
    "\n",
    "input = [coord.split(\"->\") for coord in input_lines]\n",
    "input = [[x[0].split(\",\"), x[1].split(\",\")] for x in input]\n",
    "\n",
    "input = np.array(input).astype(int)\n",
    "max_dim = input.max()\n",
    "hit_map = np.zeros((max_dim, max_dim))\n",
    "\n",
    "print(input.shape)\n",
    "print(input)\n"
   ]
  },
  {
   "cell_type": "code",
   "execution_count": 24,
   "metadata": {},
   "outputs": [
    {
     "name": "stdout",
     "output_type": "stream",
     "text": [
      "[False False False  True  True False False False False False]\n",
      "[False False False False False False False False  True False]\n"
     ]
    },
    {
     "name": "stderr",
     "output_type": "stream",
     "text": [
      "/tmp/ipykernel_15475/315276578.py:2: DeprecationWarning: elementwise comparison failed; this will raise an error in the future.\n",
      "  horiz_inputs = (input[:,0,0] == input[:,1,0]) | (input[:,0,1] == input[:])\n"
     ]
    }
   ],
   "source": [
    "# Filter out only Vertical and Horizontal lines\n",
    "horiz_inputs = (input[:,0,0] == input[:,1,0]) | (input[:,0,1] == input[:])\n",
    "\n",
    "# List of first coordinate:   input[:,0,:])\n",
    "# List of second coordinates: input[:,1,:])\n",
    "\n",
    "vert_inputs = (input[:,1,0] == input[:,1,1])\n",
    "print(horiz_inputs)\n",
    "print(vert_inputs)\n",
    "\n",
    "\n",
    "# Apply lines to hit_map (+1 per hit)\n",
    "\n",
    "\n",
    "# Count number of places that there are two or more hits"
   ]
  }
 ],
 "metadata": {
  "interpreter": {
   "hash": "e7349b9ea3860fa7301e1660ab6a68b577a1365aa0b08225b9efa3798252e0a4"
  },
  "kernelspec": {
   "display_name": "Python 3.10.0 64-bit ('advent-of-code-2021-1t8LADgT-py3.10': poetry)",
   "language": "python",
   "name": "python3"
  },
  "language_info": {
   "codemirror_mode": {
    "name": "ipython",
    "version": 3
   },
   "file_extension": ".py",
   "mimetype": "text/x-python",
   "name": "python",
   "nbconvert_exporter": "python",
   "pygments_lexer": "ipython3",
   "version": "3.10.0"
  },
  "orig_nbformat": 4
 },
 "nbformat": 4,
 "nbformat_minor": 2
}
