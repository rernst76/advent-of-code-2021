{
 "cells": [
  {
   "cell_type": "code",
   "execution_count": 56,
   "metadata": {},
   "outputs": [],
   "source": [
    "input = []\n",
    "with open(\"./inputs/d2p1.txt\", \"r\") as f: \n",
    "    input = [ l.strip().split() for l in f.readlines()]\n",
    "\n",
    "test = False\n",
    "\n",
    "if test:\n",
    "    test_raw = \"\"\"forward 5\n",
    "    down 5\n",
    "    forward 8\n",
    "    up 3\n",
    "    down 8\n",
    "    forward 2\"\"\"\n",
    "\n",
    "    input =  [l.split() for l in test_raw.splitlines()]\n",
    "\n",
    "\n",
    "commands = [ [command[0], int(command[1])] for command in input]"
   ]
  },
  {
   "cell_type": "markdown",
   "metadata": {},
   "source": [
    "## Explanation\n",
    "\n",
    "Had fun with using the new `match` statement in python 3.10. See: https://www.python.org/dev/peps/pep-0636/\n",
    "\n",
    "Also using parameter expansion to expand location tuple into the necessary args for `do_command`.\n",
    "See: https://note.nkmk.me/en/python-argument-expand/"
   ]
  },
  {
   "cell_type": "code",
   "execution_count": 57,
   "metadata": {},
   "outputs": [
    {
     "name": "stdout",
     "output_type": "stream",
     "text": [
      "Location is: (1991, 911)\n",
      "Answer is: 1813801\n"
     ]
    }
   ],
   "source": [
    "# Part one\n",
    "\n",
    "horizontal = 0\n",
    "depth = 0\n",
    "\n",
    "def do_command(command, horizontal=0, depth=0):\n",
    "    match command:\n",
    "        case [\"forward\", val]:\n",
    "            return (horizontal + val, depth)\n",
    "        case [\"up\", val]:\n",
    "            return (horizontal, depth - val)\n",
    "        case [\"down\", val]:\n",
    "            return (horizontal, depth + val)\n",
    "        case _:\n",
    "            raise ValueError(\"Unknown command!\")\n",
    "\n",
    "location = (0, 0) # (horizontal, depth)\n",
    "for command in commands:\n",
    "    location = do_command(command, *location)\n",
    "\n",
    "print(f\"Location is: {location}\")\n",
    "print(f\"Answer is: {location[0] * location[1]}\")\n"
   ]
  },
  {
   "cell_type": "code",
   "execution_count": 58,
   "metadata": {},
   "outputs": [
    {
     "name": "stdout",
     "output_type": "stream",
     "text": [
      "Location is: (1991, 984716, 911)\n",
      "Answer is: 1960569556\n"
     ]
    }
   ],
   "source": [
    "# Part two\n",
    "\n",
    "def do_command(command, horizontal=0, depth=0, aim=0):\n",
    "    match command:\n",
    "        case [\"forward\", val]:\n",
    "            return (horizontal + val, depth + (val * aim), aim)\n",
    "        case [\"up\", val]:\n",
    "            return (horizontal, depth, aim - val)\n",
    "        case [\"down\", val]:\n",
    "            return (horizontal, depth, aim + val)\n",
    "        case _:\n",
    "            raise ValueError(\"Unknown command!\")\n",
    "\n",
    "location = (0, 0, 0)\n",
    "for command in commands:\n",
    "    location = do_command(command, *location)\n",
    "\n",
    "print(f\"Location is: {location}\")\n",
    "print(f\"Answer is: {location[0]*location[1]}\")\n"
   ]
  }
 ],
 "metadata": {
  "interpreter": {
   "hash": "e7349b9ea3860fa7301e1660ab6a68b577a1365aa0b08225b9efa3798252e0a4"
  },
  "kernelspec": {
   "display_name": "Python 3.10.0 64-bit ('advent-of-code-2021-1t8LADgT-py3.10': poetry)",
   "language": "python",
   "name": "python3"
  },
  "language_info": {
   "codemirror_mode": {
    "name": "ipython",
    "version": 3
   },
   "file_extension": ".py",
   "mimetype": "text/x-python",
   "name": "python",
   "nbconvert_exporter": "python",
   "pygments_lexer": "ipython3",
   "version": "3.10.0"
  },
  "orig_nbformat": 4
 },
 "nbformat": 4,
 "nbformat_minor": 2
}
