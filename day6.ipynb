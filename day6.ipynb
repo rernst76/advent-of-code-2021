{
 "cells": [
  {
   "cell_type": "code",
   "execution_count": 41,
   "metadata": {},
   "outputs": [
    {
     "name": "stdout",
     "output_type": "stream",
     "text": [
      "[1, 1, 1, 1, 1, 5, 1, 1, 1, 5, 1, 1, 3, 1, 5, 1, 4, 1, 5, 1, 2, 5, 1, 1, 1, 1, 3, 1, 4, 5, 1, 1, 2, 1, 1, 1, 2, 4, 3, 2, 1, 1, 2, 1, 5, 4, 4, 1, 4, 1, 1, 1, 4, 1, 3, 1, 1, 1, 2, 1, 1, 1, 1, 1, 1, 1, 5, 4, 4, 2, 4, 5, 2, 1, 5, 3, 1, 3, 3, 1, 1, 5, 4, 1, 1, 3, 5, 1, 1, 1, 4, 4, 2, 4, 1, 1, 4, 1, 1, 2, 1, 1, 1, 2, 1, 5, 2, 5, 1, 1, 1, 4, 1, 2, 1, 1, 1, 2, 2, 1, 3, 1, 4, 4, 1, 1, 3, 1, 4, 1, 1, 1, 2, 5, 5, 1, 4, 1, 4, 4, 1, 4, 1, 2, 4, 1, 1, 4, 1, 3, 4, 4, 1, 1, 5, 3, 1, 1, 5, 1, 3, 4, 2, 1, 3, 1, 3, 1, 1, 1, 1, 1, 1, 1, 1, 1, 4, 5, 1, 1, 1, 1, 3, 1, 1, 5, 1, 1, 4, 1, 1, 3, 1, 1, 5, 2, 1, 4, 4, 1, 4, 1, 2, 1, 1, 1, 1, 2, 1, 4, 1, 1, 2, 5, 1, 4, 4, 1, 1, 1, 4, 1, 1, 1, 5, 3, 1, 4, 1, 4, 1, 1, 3, 5, 3, 5, 5, 5, 1, 5, 1, 1, 1, 1, 1, 1, 1, 1, 2, 3, 3, 3, 3, 4, 2, 1, 1, 4, 5, 3, 1, 1, 5, 5, 1, 1, 2, 1, 4, 1, 3, 5, 1, 1, 1, 5, 2, 2, 1, 4, 2, 1, 1, 4, 1, 3, 1, 1, 1, 3, 1, 5, 1, 5, 1, 1, 4, 1, 2, 1]\n"
     ]
    }
   ],
   "source": [
    "# Get Input\n",
    "\n",
    "test_inputs_raw = \"3,4,3,1,2\"\n",
    "with open(\"./inputs/d6p1.txt\", \"r\") as f:\n",
    "    inputs_raw = f.read()\n",
    "\n",
    "use_test = False\n",
    "if use_test:\n",
    "    input = [int(x) for x in test_inputs_raw.split(\",\")]\n",
    "else:\n",
    "    input = [int(x) for x in inputs_raw.split(\",\")]\n"
   ]
  },
  {
   "cell_type": "markdown",
   "metadata": {},
   "source": [
    "## Approach\n",
    "\n",
    "As there is no unique value attributed to each fish there is no sense in creating an object. My first thought was to use a `@dataclass` or a `namedtuple`\n",
    "but there is really no need to do that. Each fish goes through a common and discrete set of phases, so we can aggregate the fish and just keep track\n",
    "of how many are in each \"state\". Then we just need to track the movement of the groups of fish through the states."
   ]
  },
  {
   "cell_type": "code",
   "execution_count": 43,
   "metadata": {},
   "outputs": [
    {
     "name": "stdout",
     "output_type": "stream",
     "text": [
      "1686252324092\n"
     ]
    }
   ],
   "source": [
    "# Seed fish tracker with initial input\n",
    "\n",
    "fish_group = {x: input.count(x) for x in range(9)}\n",
    "\n",
    "new_fish_age = 8\n",
    "parent_fish_age = 6\n",
    "\n",
    "def process_fish_day(fish_group):\n",
    "    # Move all fish down one group (except for new_fish_age)\n",
    "    num_new_fish = fish_group[0]\n",
    "    for age in range(new_fish_age):\n",
    "        fish_group[age] = fish_group[age + 1] \n",
    "    \n",
    "    fish_group[new_fish_age] = num_new_fish\n",
    "    fish_group[parent_fish_age] = fish_group[parent_fish_age] + num_new_fish\n",
    "\n",
    "    return fish_group\n",
    "\n",
    "for i in range(256):\n",
    "    fish_group = process_fish_day(fish_group)\n",
    "    \n",
    "print(sum(fish_group.values()))\n"
   ]
  }
 ],
 "metadata": {
  "interpreter": {
   "hash": "1ceab359366f338bd8878fccf5e29e25e0468655bde092b23bdab0e808512200"
  },
  "kernelspec": {
   "display_name": "Python 3.8.10 64-bit ('advent-of-code-2021-6-4Xx-li-py3.10': poetry)",
   "name": "python3"
  },
  "language_info": {
   "codemirror_mode": {
    "name": "ipython",
    "version": 3
   },
   "file_extension": ".py",
   "mimetype": "text/x-python",
   "name": "python",
   "nbconvert_exporter": "python",
   "pygments_lexer": "ipython3",
   "version": "3.8.10"
  },
  "orig_nbformat": 4
 },
 "nbformat": 4,
 "nbformat_minor": 2
}
