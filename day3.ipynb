{
 "cells": [
  {
   "cell_type": "code",
   "execution_count": 1,
   "metadata": {},
   "outputs": [],
   "source": [
    "# Input\n",
    "\n",
    "test_raw = \"\"\"00100\n",
    "11110\n",
    "10110\n",
    "10111\n",
    "10101\n",
    "01111\n",
    "00111\n",
    "11100\n",
    "10000\n",
    "11001\n",
    "00010\n",
    "01010\"\"\".splitlines()\n",
    "\n",
    "with open(\"./inputs/d3p1.txt\", \"r\") as f:\n",
    "    input = f.read().splitlines()\n",
    "\n",
    "test = True\n",
    "if test:\n",
    "    input = test_raw\n",
    "\n"
   ]
  },
  {
   "cell_type": "code",
   "execution_count": 30,
   "metadata": {},
   "outputs": [
    {
     "name": "stdout",
     "output_type": "stream",
     "text": [
      "gamma is 1503 epsilon is 2592\n",
      "The answer is 3895776\n"
     ]
    }
   ],
   "source": [
    "import numpy as np\n",
    "\n",
    "input = [[c for c in line] for line in input]\n",
    "\n",
    "array = np.array(input, dtype=float)\n",
    "\n",
    "mean = array.mean(axis=0)\n",
    "gamma = np.where(mean > 0.5, 1, 0).tolist()\n",
    "epsilon = np.where(mean < 0.5, 1, 0).tolist()\n",
    "\n",
    "gamma = int(\"\".join(str(bit) for bit in gamma), 2)\n",
    "epsilon = int(\"\".join(str(bit) for bit in epsilon), 2)\n",
    "\n",
    "print(f\"gamma is {gamma} epsilon is {epsilon}\")\n",
    "print(f\"The answer is {gamma * epsilon}\")\n"
   ]
  },
  {
   "cell_type": "code",
   "execution_count": 6,
   "metadata": {},
   "outputs": [
    {
     "name": "stdout",
     "output_type": "stream",
     "text": [
      "23\n",
      "10\n"
     ]
    }
   ],
   "source": [
    "import numpy as np\n",
    "\n",
    "input = [[c for c in line] for line in input]\n",
    "\n",
    "array = np.array(input, dtype=float)\n",
    "for bit_pos in range(array.shape[1]):\n",
    "    mean = array.mean(axis=0)\n",
    "\n",
    "    if mean[bit_pos] > 0.5:\n",
    "        array = array[array[:,bit_pos] > 0.5]\n",
    "    elif mean[bit_pos] < 0.5:\n",
    "        array = array[array[:,bit_pos] < 0.5]\n",
    "    else:\n",
    "        array = array[array[:,bit_pos] > 0.5]\n",
    "\n",
    "    if array.shape[0] == 1:\n",
    "        break\n",
    "\n",
    "oxy = int(\"\".join(str(bit) for bit in np.where(array[0] > 0.5,1,0)), 2)\n",
    "print(oxy)\n",
    "\n",
    "array = np.array(input, dtype=float)\n",
    "for bit_pos in range(array.shape[1]):\n",
    "    mean = array.mean(axis=0)\n",
    "\n",
    "    if mean[bit_pos] > 0.5:\n",
    "        array = array[array[:,bit_pos] < 0.5]\n",
    "    elif mean[bit_pos] < 0.5:\n",
    "        array = array[array[:,bit_pos] > 0.5]\n",
    "    else:\n",
    "        array = array[array[:,bit_pos] < 0.5]\n",
    "    \n",
    "    if array.shape[0] == 1:\n",
    "        break\n",
    "\n",
    "\n",
    "co2 = int(\"\".join(str(bit) for bit in np.where(array[0] > 0.5,1,0)), 2)\n",
    "print(co2)\n",
    "\n",
    "\n"
   ]
  }
 ],
 "metadata": {
  "interpreter": {
   "hash": "e7349b9ea3860fa7301e1660ab6a68b577a1365aa0b08225b9efa3798252e0a4"
  },
  "kernelspec": {
   "display_name": "Python 3.10.0 64-bit ('advent-of-code-2021-1t8LADgT-py3.10': poetry)",
   "language": "python",
   "name": "python3"
  },
  "language_info": {
   "codemirror_mode": {
    "name": "ipython",
    "version": 3
   },
   "file_extension": ".py",
   "mimetype": "text/x-python",
   "name": "python",
   "nbconvert_exporter": "python",
   "pygments_lexer": "ipython3",
   "version": "3.10.0"
  },
  "orig_nbformat": 4
 },
 "nbformat": 4,
 "nbformat_minor": 2
}
