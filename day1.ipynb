{
 "cells": [
  {
   "cell_type": "markdown",
   "metadata": {},
   "source": [
    "As the submarine drops below the surface of the ocean, it automatically performs a sonar sweep of the nearby sea floor. On a small screen, the sonar sweep report (your puzzle input) appears: each line is a measurement of the sea floor depth as the sweep looks further and further away from the submarine.\n",
    "\n",
    "For example, suppose you had the following report:\n",
    "\n",
    "199\n",
    "200\n",
    "208\n",
    "210\n",
    "200\n",
    "207\n",
    "240\n",
    "269\n",
    "260\n",
    "\n",
    "This report indicates that, scanning outward from the submarine, the sonar sweep found depths of 199, 200, 208, 210, and so on.\n",
    "\n",
    "The first order of business is to figure out how quickly the depth increases, just so you know what you're dealing with - you never know if the keys will get carried into deeper water by an ocean current or a fish or something.\n",
    "\n",
    "To do this, count the number of times a depth measurement increases from the previous measurement. (There is no measurement before the first measurement.) In the example above, the changes are as follows:\n",
    "\n",
    "199 (N/A - no previous measurement)  \n",
    "200 (**increased**)  \n",
    "208 (**increased**)  \n",
    "210 (**increased**)  \n",
    "200 (decreased)  \n",
    "207 (**increased**)  \n",
    "240 (**increased**)  \n",
    "269 (**increased**)  \n",
    "260 (decreased)  \n",
    "263 (**increased**)  \n",
    "\n",
    "In this example, there are 7 measurements that are larger than the previous measurement.\n",
    "\n",
    "**How many measurements are larger than the previous measurement?**"
   ]
  },
  {
   "cell_type": "code",
   "execution_count": 42,
   "metadata": {},
   "outputs": [],
   "source": [
    "# Get Puzzle Input\n",
    "\n",
    "input = []\n",
    "\n",
    "with open(\"./inputs/d1p1.txt\", \"r\") as f:\n",
    "    input = [int(l.strip()) for l in f.readlines()]\n",
    "\n",
    "test_input = [199, 200, 208, 210, 200, 207, 240, 269, 260, 263]\n"
   ]
  },
  {
   "cell_type": "code",
   "execution_count": 43,
   "metadata": {},
   "outputs": [
    {
     "name": "stdout",
     "output_type": "stream",
     "text": [
      "1121\n",
      "878\n"
     ]
    }
   ],
   "source": [
    "import numpy as np\n",
    "\n",
    "input = input # Change to test_input if needed\n",
    "\n",
    "def calc_changes(input):\n",
    "\n",
    "    in_array = np.array(input)\n",
    "    offset_array = np.roll(in_array,1)\n",
    "\n",
    "\n",
    "    diff_array = np.subtract(in_array, offset_array)\n",
    "\n",
    "    num_increases = np.sum(diff_array[1:] > 0)\n",
    "    num_decreases = np.sum(diff_array[1:] < 0)\n",
    "\n",
    "    return (num_increases, num_decreases)\n",
    "\n",
    "\n",
    "answer = calc_changes(input)\n",
    "print(answer[0])\n",
    "print(answer[1])\n"
   ]
  },
  {
   "cell_type": "markdown",
   "metadata": {},
   "source": [
    "Considering every single measurement isn't as useful as you expected: there's just too much noise in the data.\n",
    "\n",
    "Instead, consider sums of a three-measurement sliding window. Again considering the above example:\n",
    "\n",
    "199  A      \n",
    "200  A B    \n",
    "208  A B C  \n",
    "210    B C D  \n",
    "200  E   C D  \n",
    "207  E F   D  \n",
    "240  E F G  \n",
    "269    F G H  \n",
    "260      G H  \n",
    "263        H  \n",
    "\n",
    "Start by comparing the first and second three-measurement windows. The measurements in the first window are marked A (199, 200, 208); their sum is 199 + 200 + 208 = 607. The second window is marked B (200, 208, 210); its sum is 618. The sum of measurements in the second window is larger than the sum of the first, so this first comparison increased.\n",
    "\n",
    "Your goal now is to count the number of times the sum of measurements in this sliding window increases from the previous sum. So, compare A with B, then compare B with C, then C with D, and so on. Stop when there aren't enough measurements left to create a new three-measurement sum.\n",
    "\n",
    "In the above example, the sum of each three-measurement window is as follows:\n",
    "\n",
    "A: 607 (N/A - no previous sum)  \n",
    "B: 618 (**increased**)  \n",
    "C: 618 (no change)  \n",
    "D: 617 (decreased)  \n",
    "E: 647 (**increased**)  \n",
    "F: 716 (**increased**)  \n",
    "G: 769 (**increased**)  \n",
    "H: 792 (**increased**)  \n",
    "\n",
    "In this example, there are 5 sums that are larger than the previous sum.\n",
    "\n",
    "Consider sums of a three-measurement sliding window. How many sums are larger than the previous sum?"
   ]
  },
  {
   "cell_type": "code",
   "execution_count": 44,
   "metadata": {},
   "outputs": [
    {
     "name": "stdout",
     "output_type": "stream",
     "text": [
      "1065\n",
      "876\n"
     ]
    }
   ],
   "source": [
    "# Create offset arrays\n",
    "\n",
    "input = input # Change to test_input if needed\n",
    "\n",
    "# Create offset arrays\n",
    "in_array_0 = input\n",
    "in_array_1 = np.roll(in_array_0, -1)\n",
    "in_array_2 = np.roll(in_array_1, -1)\n",
    "\n",
    "# Sum offset arrays along y axis\n",
    "arrays = [in_array_0, in_array_1, in_array_2]\n",
    "window_values = np.sum(arrays, axis=0)\n",
    "\n",
    "# Use initial code to calc the differences\n",
    "answer = calc_changes(window_values[:-2])\n",
    "\n",
    "print(answer[0])\n",
    "print(answer[1])\n",
    "\n"
   ]
  }
 ],
 "metadata": {
  "interpreter": {
   "hash": "e7349b9ea3860fa7301e1660ab6a68b577a1365aa0b08225b9efa3798252e0a4"
  },
  "kernelspec": {
   "display_name": "Python 3.10.0 64-bit ('advent-of-code-2021-1t8LADgT-py3.10': poetry)",
   "language": "python",
   "name": "python3"
  },
  "language_info": {
   "codemirror_mode": {
    "name": "ipython",
    "version": 3
   },
   "file_extension": ".py",
   "mimetype": "text/x-python",
   "name": "python",
   "nbconvert_exporter": "python",
   "pygments_lexer": "ipython3",
   "version": "3.10.0"
  },
  "orig_nbformat": 4
 },
 "nbformat": 4,
 "nbformat_minor": 2
}
